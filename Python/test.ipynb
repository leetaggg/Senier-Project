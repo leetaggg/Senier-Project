{
 "cells": [
  {
   "cell_type": "code",
   "execution_count": 11,
   "metadata": {},
   "outputs": [],
   "source": [
    "import pickle\n",
    "import __default__ as default\n",
    "import shutil\n",
    "import os\n",
    "b = [\"20170728\"]\n",
    "def a(name):\n",
    "        dir_path = [default.Mask_DB_Path,default.NoMask_DB_Path]\n",
    "        for Dir in dir_path:\n",
    "            a = []\n",
    "            c = []\n",
    "            pkl_file = Dir + \"/Folder_PKL.pkl\"\n",
    "            with open(pkl_file ,\"rb\") as rd:\n",
    "                data = pickle.load(rd)\n",
    "                while 1:\n",
    "                    try:\n",
    "                        data.append(pickle.load(rd))\n",
    "                    except EOFError:\n",
    "                        break\n",
    "            \n",
    "            for i in range(0, len(data)):\n",
    "                a.append(data[i][0])\n",
    "            for i in range(0, len(a)):\n",
    "                if str(name) in a[i]:\n",
    "                    c.append(i)          \n",
    "            for i in c:\n",
    "                number = i - c.index(i)\n",
    "                print(c)\n",
    "                del data[number]\n",
    "                del a [number]\n",
    "                \n",
    "            with open(pkl_file,\"wb\") as pkl:\n",
    "                pickle.dump(data, pkl)\n",
    "            dir_pathf = Dir+ \"/\" + str(name)\n",
    "            if os.path.exists(dir_pathf):\n",
    "                print(dir_pathf)\n",
    "                shutil.rmtree(dir_pathf)"
   ]
  },
  {
   "cell_type": "code",
   "execution_count": 12,
   "metadata": {},
   "outputs": [
    {
     "name": "stdout",
     "output_type": "stream",
     "text": [
      "C:/AHard/Project/user_img/Mask/20170728\n",
      "C:/AHard/Project/user_img/NoMask/20170728\n"
     ]
    }
   ],
   "source": [
    "if b == []:\n",
    "    print(\"없음\")\n",
    "else:\n",
    "    for i in b:\n",
    "        a(i)\n",
    "    "
   ]
  },
  {
   "cell_type": "code",
   "execution_count": 2,
   "metadata": {},
   "outputs": [
    {
     "ename": "ValueError",
     "evalue": "invalid literal for int() with base 10: 'ssss'",
     "output_type": "error",
     "traceback": [
      "\u001b[1;31m---------------------------------------------------------------------------\u001b[0m",
      "\u001b[1;31mValueError\u001b[0m                                Traceback (most recent call last)",
      "\u001b[1;32mc:\\AHard\\Project\\test.ipynb Cell 3'\u001b[0m in \u001b[0;36m<cell line: 2>\u001b[1;34m()\u001b[0m\n\u001b[0;32m      <a href='vscode-notebook-cell:/c%3A/AHard/Project/test.ipynb#ch0000002?line=0'>1</a>\u001b[0m numbers \u001b[39m=\u001b[39m \u001b[39m\"\u001b[39m\u001b[39mssss\u001b[39m\u001b[39m\"\u001b[39m\n\u001b[1;32m----> <a href='vscode-notebook-cell:/c%3A/AHard/Project/test.ipynb#ch0000002?line=1'>2</a>\u001b[0m numbers \u001b[39m=\u001b[39m \u001b[39mint\u001b[39;49m(numbers) \u001b[39m%\u001b[39m \u001b[39m1000\u001b[39m\n",
      "\u001b[1;31mValueError\u001b[0m: invalid literal for int() with base 10: 'ssss'"
     ]
    }
   ],
   "source": [
    "numbers = \"ssss\"\n",
    "numbers = int(numbers) % 1000"
   ]
  },
  {
   "cell_type": "code",
   "execution_count": 21,
   "metadata": {},
   "outputs": [],
   "source": [
    "from completion.deep.deepface import DeepFace as DE\n",
    "df = pd.DataFrame()\n",
    "df = DE.find(img_path='C:/AHard/Project/user_img/NoMask/a.jpg', db_path=\"C:/AHard/Project/user_img/NoMask\", enforce_detection=True)"
   ]
  },
  {
   "cell_type": "code",
   "execution_count": 12,
   "metadata": {},
   "outputs": [],
   "source": [
    "import pandas as pd\n"
   ]
  },
  {
   "cell_type": "code",
   "execution_count": 23,
   "metadata": {},
   "outputs": [],
   "source": [
    "import re \n",
    "Photo_Path  = \"C:/AHard/Project/user_img/Temp\"\n",
    "file_list = []\n",
    "for (root, directories, files) in os.walk(Photo_Path):\n",
    "    for file in files:\n",
    "        if \".jpg\" in file:\n",
    "            file_path = os.path.join(root, file)\n",
    "            file_path = file_path.replace(\"\\\\\", \"/\")\n",
    "            number = re.sub(r'[^0-9]', '', file_path)\n",
    "            number = int(number) % 1000;\n",
    "            number = format(number, '03')\n",
    "            a1 = file_path.replace(\"_\" + str(number), \"\")           # 수정 5/23\n",
    "            a2 = a1.replace(\".jpg\", \"\")                             # 수정 5/23\n",
    "            a3 = a2.replace(Photo_Path+ \"/\", \"\")\n",
    "            a4 = re.sub(r'[^0-9]', '', a3)\n",
    "            a5 = int(a4) % 100000000;\n",
    "            file_list.append(a5)"
   ]
  },
  {
   "cell_type": "code",
   "execution_count": 4,
   "metadata": {},
   "outputs": [
    {
     "name": "stdout",
     "output_type": "stream",
     "text": [
      "2011707020117070000\n",
      "1\n"
     ]
    }
   ],
   "source": [
    "import re\n",
    "mask_file_path = \"\"\n",
    "Name = 20117070\n",
    "Mask_DB_Path = 'C:/AHard/Project/user_img/Mask'\n",
    "folder = Mask_DB_Path +\"/\"+ str(Name) \n",
    "if mask_file_path == \"\":\n",
    "        mask_file_path = folder + \"/\" + str(Name) + \"_000.jpg\" \n",
    "        \n",
    "numbers = re.sub(r'[^0-9]', '', mask_file_path)\n",
    "numbers = int(numbers) % 1000;\n",
    "numbers = format(numbers, '03')\n",
    "a1 = mask_file_path.replace(\"_\" + str(numbers), \"\")\n",
    "a2 = a1.replace(\".jpg\", \"\")\n",
    "#print(numbers)\n",
    "numbers = int(numbers) + 1\n",
    "print(numbers)\n",
    "numbers = format(numbers, '03')\n",
    "mask_cameraimg_path = str(a2) + \"_\" + numbers +\".jpg\"\n",
    "mask_cameraimg_path = mask_cameraimg_path.replace(\"\\\\\", \"/\")"
   ]
  },
  {
   "cell_type": "code",
   "execution_count": 5,
   "metadata": {},
   "outputs": [
    {
     "ename": "OSError",
     "evalue": "[WinError 145] 디렉터리가 비어 있지 않습니다: 'C:/AHard/Project/user_img/Temp/20170750'",
     "output_type": "error",
     "traceback": [
      "\u001b[1;31m---------------------------------------------------------------------------\u001b[0m",
      "\u001b[1;31mOSError\u001b[0m                                   Traceback (most recent call last)",
      "\u001b[1;32mc:\\AHard\\Project\\test.ipynb Cell 8'\u001b[0m in \u001b[0;36m<cell line: 2>\u001b[1;34m()\u001b[0m\n\u001b[0;32m      <a href='vscode-notebook-cell:/c%3A/AHard/Project/test.ipynb#ch0000007?line=0'>1</a>\u001b[0m \u001b[39mimport\u001b[39;00m \u001b[39mos\u001b[39;00m\n\u001b[1;32m----> <a href='vscode-notebook-cell:/c%3A/AHard/Project/test.ipynb#ch0000007?line=1'>2</a>\u001b[0m os\u001b[39m.\u001b[39;49mrmdir(\u001b[39m\"\u001b[39;49m\u001b[39mC:/AHard/Project/user_img/Temp/20170750\u001b[39;49m\u001b[39m\"\u001b[39;49m)\n",
      "\u001b[1;31mOSError\u001b[0m: [WinError 145] 디렉터리가 비어 있지 않습니다: 'C:/AHard/Project/user_img/Temp/20170750'"
     ]
    }
   ],
   "source": [
    "\n",
    "import os\n",
    "Photo_Path = \"C:/AHard/Project/user_img/Temp\"\n",
    "try:\n",
    "    os.rmdir(Photo_Path)\n",
    "except OSError:\n",
    "    print(\"디렉터리가 비어 있지 않습니다\")\n",
    "    "
   ]
  },
  {
   "cell_type": "code",
   "execution_count": 6,
   "metadata": {},
   "outputs": [
    {
     "ename": "FileNotFoundError",
     "evalue": "[WinError 2] 지정된 파일을 찾을 수 없습니다: 'C:/AHard/Project/user_img/Temp/2017750'",
     "output_type": "error",
     "traceback": [
      "\u001b[1;31m---------------------------------------------------------------------------\u001b[0m",
      "\u001b[1;31mFileNotFoundError\u001b[0m                         Traceback (most recent call last)",
      "\u001b[1;32mc:\\AHard\\Project\\test.ipynb Cell 9'\u001b[0m in \u001b[0;36m<cell line: 1>\u001b[1;34m()\u001b[0m\n\u001b[1;32m----> <a href='vscode-notebook-cell:/c%3A/AHard/Project/test.ipynb#ch0000008?line=0'>1</a>\u001b[0m os\u001b[39m.\u001b[39;49mrmdir(\u001b[39m\"\u001b[39;49m\u001b[39mC:/AHard/Project/user_img/Temp/2017750\u001b[39;49m\u001b[39m\"\u001b[39;49m)\n",
      "\u001b[1;31mFileNotFoundError\u001b[0m: [WinError 2] 지정된 파일을 찾을 수 없습니다: 'C:/AHard/Project/user_img/Temp/2017750'"
     ]
    }
   ],
   "source": [
    "os.rmdir(\"C:/AHard/Project/user_img/Temp/2017750\")"
   ]
  }
 ],
 "metadata": {
  "interpreter": {
   "hash": "eb0112c456f82d9d2ffc2ba40e932c79270a28c5f552c1ea081145b825aa262c"
  },
  "kernelspec": {
   "display_name": "Python 3.8.13 ('test')",
   "language": "python",
   "name": "python3"
  },
  "language_info": {
   "codemirror_mode": {
    "name": "ipython",
    "version": 3
   },
   "file_extension": ".py",
   "mimetype": "text/x-python",
   "name": "python",
   "nbconvert_exporter": "python",
   "pygments_lexer": "ipython3",
   "version": "3.8.13"
  },
  "orig_nbformat": 4
 },
 "nbformat": 4,
 "nbformat_minor": 2
}
